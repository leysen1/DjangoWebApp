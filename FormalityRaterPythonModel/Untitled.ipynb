{
 "cells": [
  {
   "cell_type": "code",
   "execution_count": 5,
   "metadata": {},
   "outputs": [],
   "source": [
    "import pickle\n",
    "loaded_model = pickle.load(open('finalized_model.sav', 'rb'))"
   ]
  },
  {
   "cell_type": "code",
   "execution_count": 8,
   "metadata": {},
   "outputs": [],
   "source": [
    "def transformation(temp):\n",
    "    transformed = []\n",
    "    transformed.extend([(entirely_capitalized_num_of_words(temp))])\n",
    "    transformed.extend([(entirely_capitalized_sentence(temp))])\n",
    "    transformed.extend([(first_word_capitalized(temp))])\n",
    "    transformed.extend(list(count_nes(temp).values()))\n",
    "    transformed.extend([contractions_norm(temp)])\n",
    "    transformed.extend([aver_word_length(temp)])\n",
    "    transformed.extend([aver_log_freq(temp.lower(), frequencies)])\n",
    "    transformed.extend(list(postag_occurences(temp).values()))\n",
    "    transformed.extend(list(count_punct(temp).values()))\n",
    "    transformed.extend([num_of_words(temp)])\n",
    "    transformed.extend([num_of_chars(temp)])\n",
    "    transformed.extend([count_syllables(temp)])\n",
    "    transformed.extend([kinclaid_score(temp)])\n",
    "    transformed.extend([count_hedge_words(temp)])\n",
    "    transformed.extend([count_filler_words(temp)])\n",
    "    transformed.extend([num_of_firstperson(temp)])\n",
    "    transformed.extend([num_of_thirdperson(temp)])\n",
    "    transformed.extend([subjectivity(temp)])\n",
    "    transformed.extend([sentiment(temp)])\n",
    "    transformed.extend([item for sublist in scaler.transform(np.reshape(wordvector(temp),(1,100))).tolist() for item in sublist])\n",
    "    return np.array(transformed)"
   ]
  },
  {
   "cell_type": "code",
   "execution_count": 11,
   "metadata": {},
   "outputs": [],
   "source": [
    "# case\n",
    "## Number of entirely capitalized words\n",
    "def entirely_capitalized_num_of_words(temp):\n",
    "    return sum([1 if i.isupper() == True else 0 for i in temp.split(' ')])\n",
    "\n",
    "## binary indicator whether a sentence is entirely capitalized\n",
    "def entirely_capitalized_sentence(temp):\n",
    "    if entirely_capitalized_num_of_words == len([i for i in temp.split()]):\n",
    "        return 1\n",
    "    else:\n",
    "        return 0\n",
    "\n",
    "## binary indicator whether the first word is capitalized\n",
    "def first_word_capitalized(temp):\n",
    "    if temp[0].isupper():\n",
    "        return 1\n",
    "    else:\n",
    "        return 0"
   ]
  },
  {
   "cell_type": "code",
   "execution_count": 12,
   "metadata": {},
   "outputs": [],
   "source": [
    "def get_model_score(temp,clf):\n",
    "    temp = transformation(temp)\n",
    "    temp = np.reshape(temp,(1,173))\n",
    "    pred = clf.predict(temp)\n",
    "    p_mean = np.mean(clf.predict(X))\n",
    "    p_std = np.std(clf.predict(X))\n",
    "    p_z = (pred - p_mean) / p_std\n",
    "    p_final = (p_z) * np.std(y) + np.mean(y)\n",
    "    return p_final"
   ]
  },
  {
   "cell_type": "code",
   "execution_count": 14,
   "metadata": {},
   "outputs": [],
   "source": [
    "# Entity\n",
    "## One-hot features for entity types (e.g. PERSON, LOCATION) occurring in the sentence\n",
    "def count_nes(temp):\n",
    "    tokens = word_tokenize(temp)\n",
    "    tags = pos_tag(tokens)\n",
    "    chunked = ne_chunk(tags)\n",
    "    named_entities = ['DATE','FACILITY','GPE', 'LOCATION', 'MONEY', 'ORGANIZATION','PERCENT','PERSON','TIME']\n",
    "    counts ={}\n",
    "    for ne in named_entities:\n",
    "        counts[ne] = 0\n",
    "    for tree in chunked.subtrees():\n",
    "        for named_entity in named_entities:\n",
    "            if tree.label() == named_entity:\n",
    "                counts[named_entity] = counts[named_entity] + 1\n",
    "    return counts\n",
    "## average length, in characters, of PERSON mentions\n",
    "def aver_length_person(temp):\n",
    "    tokens = word_tokenize(temp)\n",
    "    tags = pos_tag(tokens)\n",
    "    chunked = ne_chunk(tags)\n",
    "    word = ''\n",
    "    for tree in chunked.subtrees():\n",
    "        if tree.label() == 'PERSON':\n",
    "            for i in range(len(tree)):\n",
    "                word = word + tree[i][0]\n",
    "    return len(word)"
   ]
  },
  {
   "cell_type": "code",
   "execution_count": 15,
   "metadata": {},
   "outputs": [
    {
     "ename": "NameError",
     "evalue": "name 'word_tokenize' is not defined",
     "output_type": "error",
     "traceback": [
      "\u001b[0;31m---------------------------------------------------------------------------\u001b[0m",
      "\u001b[0;31mNameError\u001b[0m                                 Traceback (most recent call last)",
      "\u001b[0;32m<ipython-input-15-b8aede72dcc1>\u001b[0m in \u001b[0;36m<module>\u001b[0;34m()\u001b[0m\n\u001b[0;32m----> 1\u001b[0;31m \u001b[0mget_model_score\u001b[0m\u001b[0;34m(\u001b[0m\u001b[0;34m\"Hello how are you today?\"\u001b[0m\u001b[0;34m,\u001b[0m\u001b[0mloaded_model\u001b[0m\u001b[0;34m)\u001b[0m\u001b[0;34m\u001b[0m\u001b[0m\n\u001b[0m\u001b[1;32m      2\u001b[0m \u001b[0mprint\u001b[0m\u001b[0;34m(\u001b[0m\u001b[0mget_model_score\u001b[0m\u001b[0;34m)\u001b[0m\u001b[0;34m\u001b[0m\u001b[0m\n",
      "\u001b[0;32m<ipython-input-12-773ad5ff6ce5>\u001b[0m in \u001b[0;36mget_model_score\u001b[0;34m(temp, clf)\u001b[0m\n\u001b[1;32m      1\u001b[0m \u001b[0;32mdef\u001b[0m \u001b[0mget_model_score\u001b[0m\u001b[0;34m(\u001b[0m\u001b[0mtemp\u001b[0m\u001b[0;34m,\u001b[0m\u001b[0mclf\u001b[0m\u001b[0;34m)\u001b[0m\u001b[0;34m:\u001b[0m\u001b[0;34m\u001b[0m\u001b[0m\n\u001b[0;32m----> 2\u001b[0;31m     \u001b[0mtemp\u001b[0m \u001b[0;34m=\u001b[0m \u001b[0mtransformation\u001b[0m\u001b[0;34m(\u001b[0m\u001b[0mtemp\u001b[0m\u001b[0;34m)\u001b[0m\u001b[0;34m\u001b[0m\u001b[0m\n\u001b[0m\u001b[1;32m      3\u001b[0m     \u001b[0mtemp\u001b[0m \u001b[0;34m=\u001b[0m \u001b[0mnp\u001b[0m\u001b[0;34m.\u001b[0m\u001b[0mreshape\u001b[0m\u001b[0;34m(\u001b[0m\u001b[0mtemp\u001b[0m\u001b[0;34m,\u001b[0m\u001b[0;34m(\u001b[0m\u001b[0;36m1\u001b[0m\u001b[0;34m,\u001b[0m\u001b[0;36m173\u001b[0m\u001b[0;34m)\u001b[0m\u001b[0;34m)\u001b[0m\u001b[0;34m\u001b[0m\u001b[0m\n\u001b[1;32m      4\u001b[0m     \u001b[0mpred\u001b[0m \u001b[0;34m=\u001b[0m \u001b[0mclf\u001b[0m\u001b[0;34m.\u001b[0m\u001b[0mpredict\u001b[0m\u001b[0;34m(\u001b[0m\u001b[0mtemp\u001b[0m\u001b[0;34m)\u001b[0m\u001b[0;34m\u001b[0m\u001b[0m\n\u001b[1;32m      5\u001b[0m     \u001b[0mp_mean\u001b[0m \u001b[0;34m=\u001b[0m \u001b[0mnp\u001b[0m\u001b[0;34m.\u001b[0m\u001b[0mmean\u001b[0m\u001b[0;34m(\u001b[0m\u001b[0mclf\u001b[0m\u001b[0;34m.\u001b[0m\u001b[0mpredict\u001b[0m\u001b[0;34m(\u001b[0m\u001b[0mX\u001b[0m\u001b[0;34m)\u001b[0m\u001b[0;34m)\u001b[0m\u001b[0;34m\u001b[0m\u001b[0m\n",
      "\u001b[0;32m<ipython-input-8-80fb905cd398>\u001b[0m in \u001b[0;36mtransformation\u001b[0;34m(temp)\u001b[0m\n\u001b[1;32m      4\u001b[0m     \u001b[0mtransformed\u001b[0m\u001b[0;34m.\u001b[0m\u001b[0mextend\u001b[0m\u001b[0;34m(\u001b[0m\u001b[0;34m[\u001b[0m\u001b[0;34m(\u001b[0m\u001b[0mentirely_capitalized_sentence\u001b[0m\u001b[0;34m(\u001b[0m\u001b[0mtemp\u001b[0m\u001b[0;34m)\u001b[0m\u001b[0;34m)\u001b[0m\u001b[0;34m]\u001b[0m\u001b[0;34m)\u001b[0m\u001b[0;34m\u001b[0m\u001b[0m\n\u001b[1;32m      5\u001b[0m     \u001b[0mtransformed\u001b[0m\u001b[0;34m.\u001b[0m\u001b[0mextend\u001b[0m\u001b[0;34m(\u001b[0m\u001b[0;34m[\u001b[0m\u001b[0;34m(\u001b[0m\u001b[0mfirst_word_capitalized\u001b[0m\u001b[0;34m(\u001b[0m\u001b[0mtemp\u001b[0m\u001b[0;34m)\u001b[0m\u001b[0;34m)\u001b[0m\u001b[0;34m]\u001b[0m\u001b[0;34m)\u001b[0m\u001b[0;34m\u001b[0m\u001b[0m\n\u001b[0;32m----> 6\u001b[0;31m     \u001b[0mtransformed\u001b[0m\u001b[0;34m.\u001b[0m\u001b[0mextend\u001b[0m\u001b[0;34m(\u001b[0m\u001b[0mlist\u001b[0m\u001b[0;34m(\u001b[0m\u001b[0mcount_nes\u001b[0m\u001b[0;34m(\u001b[0m\u001b[0mtemp\u001b[0m\u001b[0;34m)\u001b[0m\u001b[0;34m.\u001b[0m\u001b[0mvalues\u001b[0m\u001b[0;34m(\u001b[0m\u001b[0;34m)\u001b[0m\u001b[0;34m)\u001b[0m\u001b[0;34m)\u001b[0m\u001b[0;34m\u001b[0m\u001b[0m\n\u001b[0m\u001b[1;32m      7\u001b[0m     \u001b[0mtransformed\u001b[0m\u001b[0;34m.\u001b[0m\u001b[0mextend\u001b[0m\u001b[0;34m(\u001b[0m\u001b[0;34m[\u001b[0m\u001b[0mcontractions_norm\u001b[0m\u001b[0;34m(\u001b[0m\u001b[0mtemp\u001b[0m\u001b[0;34m)\u001b[0m\u001b[0;34m]\u001b[0m\u001b[0;34m)\u001b[0m\u001b[0;34m\u001b[0m\u001b[0m\n\u001b[1;32m      8\u001b[0m     \u001b[0mtransformed\u001b[0m\u001b[0;34m.\u001b[0m\u001b[0mextend\u001b[0m\u001b[0;34m(\u001b[0m\u001b[0;34m[\u001b[0m\u001b[0maver_word_length\u001b[0m\u001b[0;34m(\u001b[0m\u001b[0mtemp\u001b[0m\u001b[0;34m)\u001b[0m\u001b[0;34m]\u001b[0m\u001b[0;34m)\u001b[0m\u001b[0;34m\u001b[0m\u001b[0m\n",
      "\u001b[0;32m<ipython-input-14-6b407f6c51bd>\u001b[0m in \u001b[0;36mcount_nes\u001b[0;34m(temp)\u001b[0m\n\u001b[1;32m      2\u001b[0m \u001b[0;31m## One-hot features for entity types (e.g. PERSON, LOCATION) occurring in the sentence\u001b[0m\u001b[0;34m\u001b[0m\u001b[0;34m\u001b[0m\u001b[0m\n\u001b[1;32m      3\u001b[0m \u001b[0;32mdef\u001b[0m \u001b[0mcount_nes\u001b[0m\u001b[0;34m(\u001b[0m\u001b[0mtemp\u001b[0m\u001b[0;34m)\u001b[0m\u001b[0;34m:\u001b[0m\u001b[0;34m\u001b[0m\u001b[0m\n\u001b[0;32m----> 4\u001b[0;31m     \u001b[0mtokens\u001b[0m \u001b[0;34m=\u001b[0m \u001b[0mword_tokenize\u001b[0m\u001b[0;34m(\u001b[0m\u001b[0mtemp\u001b[0m\u001b[0;34m)\u001b[0m\u001b[0;34m\u001b[0m\u001b[0m\n\u001b[0m\u001b[1;32m      5\u001b[0m     \u001b[0mtags\u001b[0m \u001b[0;34m=\u001b[0m \u001b[0mpos_tag\u001b[0m\u001b[0;34m(\u001b[0m\u001b[0mtokens\u001b[0m\u001b[0;34m)\u001b[0m\u001b[0;34m\u001b[0m\u001b[0m\n\u001b[1;32m      6\u001b[0m     \u001b[0mchunked\u001b[0m \u001b[0;34m=\u001b[0m \u001b[0mne_chunk\u001b[0m\u001b[0;34m(\u001b[0m\u001b[0mtags\u001b[0m\u001b[0;34m)\u001b[0m\u001b[0;34m\u001b[0m\u001b[0m\n",
      "\u001b[0;31mNameError\u001b[0m: name 'word_tokenize' is not defined"
     ]
    }
   ],
   "source": [
    "get_model_score(\"Hello how are you today?\",loaded_model)\n",
    "print(get_model_score)"
   ]
  },
  {
   "cell_type": "code",
   "execution_count": null,
   "metadata": {},
   "outputs": [],
   "source": []
  }
 ],
 "metadata": {
  "kernelspec": {
   "display_name": "Python 3",
   "language": "python",
   "name": "python3"
  },
  "language_info": {
   "codemirror_mode": {
    "name": "ipython",
    "version": 3
   },
   "file_extension": ".py",
   "mimetype": "text/x-python",
   "name": "python",
   "nbconvert_exporter": "python",
   "pygments_lexer": "ipython3",
   "version": "3.6.4"
  }
 },
 "nbformat": 4,
 "nbformat_minor": 2
}
